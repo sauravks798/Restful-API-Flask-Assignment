{
  "nbformat": 4,
  "nbformat_minor": 0,
  "metadata": {
    "colab": {
      "provenance": []
    },
    "kernelspec": {
      "name": "python3",
      "display_name": "Python 3"
    },
    "language_info": {
      "name": "python"
    }
  },
  "cells": [
    {
      "cell_type": "markdown",
      "source": [
        "#Restful API & Flask Theory\n"
      ],
      "metadata": {
        "id": "chtDEfYhPPB7"
      }
    },
    {
      "cell_type": "markdown",
      "source": [
        "1. What is a RESTful API?\n",
        "  - A RESTful API is a way for different software systems to communicate over the internet using standard HTTP methods (like GET, POST, PUT, DELETE). It adheres to the principles of REST, a software architectural style that defines a set of constraints for creating web services.\n",
        "\n",
        "2. Explain the concept of API specification?\n",
        "  - An API specification is a detailed, formal document that defines how an API behaves, what endpoints are available, how clients should interact with it, and what data is exchanged. It serves as a contract between the API provider and the API consumer.\n",
        "\n",
        "3. What is Flask, and why is it popular for building APIs?\n",
        "  - Flask is a lightweight, open-source web framework written in Python. It's designed to be simple and flexible, making it a popular choice for building web applications and especially RESTful APIs.\n",
        "  - Flask doesn’t include many built-in tools by default, giving developers full control over the app structure.\n",
        "  - It is ideal for small to medium-sized APIs and microservices.\n",
        "  - Its straightforward syntax and minimal boilerplate make it beginner-friendly.\n",
        "\n",
        "4. What is routing in Flask?\n",
        "  - Routing in Flask refers to the process of defining URL patterns and binding them to specific Python functions that handle requests to those URLs."
      ],
      "metadata": {
        "id": "-FqQiZ01Pgb3"
      }
    },
    {
      "cell_type": "code",
      "execution_count": null,
      "metadata": {
        "id": "IUsMcrR5OqKs"
      },
      "outputs": [],
      "source": [
        "# 5. How do you create a simple Flask application?\n",
        "\n",
        "''' Creating a simple Flask application involves a few basic steps: installing Flask,\n",
        "writing the Python code for the app, and running a development server.'''\n",
        "\n",
        "from flask import Flask\n",
        "\n",
        "app = Flask(__name__)\n",
        "\n",
        "@app.route('/')\n",
        "def hello():\n",
        "    return 'Hello, World!'\n",
        "\n",
        "if __name__ == '__main__':\n",
        "    app.run(debug=True)"
      ]
    },
    {
      "cell_type": "markdown",
      "source": [
        "6. What are HTTP methods used in RESTful APIs?\n",
        "  - In RESTful APIs, HTTP methods define the type of operation a client wants to perform on a resource. Each method corresponds to a CRUD (Create, Read, Update, Delete) operation.\n",
        "\n",
        "7. What is the purpose of the @app.route() decorator in Flask?\n",
        "  - The @app.route() decorator in Flask is used to bind a URL (route) to a view function. It tells Flask which URL should trigger which function when that URL is accessed in a web browser or API request.\n",
        "\n",
        "8. What is the difference between GET and POST HTTP methods?\n",
        "  - The main differences between GET and POST HTTP methods lie in how data is sent to the server and how they are typically used.\n",
        "\n",
        "9. How do you handle errors in Flask APIs?\n",
        "In Flask APIs, errors are typically handled using error handlers, try-except blocks, and proper use of HTTP status codes. This ensures that clients get meaningful and consistent responses when something goes wrong.\n",
        "\n",
        "10. How do you connect Flask to a SQL database?\n",
        "  - To connect Flask to a SQL database, you typically use an Object-Relational Mapping (ORM) tool like SQLAlchemy or Flask-SQLAlchemy, which simplifies database interaction.\n",
        "\n",
        "11. What is the role of Flask-SQLAlchemy?\n",
        "  - Simplifies Configuration:\n",
        "      * Integrates SQLAlchemy with Flask’s application context.\n",
        "      * Allows easy setup using Flask’s app.config.\n",
        "  - Manages the Database Connection:\n",
        "      - Handles database connections and sessions automatically within the Flask app lifecycle.\n",
        "  - Provides a Simplified ORM API:\n",
        "      * Offers a more Flask-friendly interface to SQLAlchemy’s features.\n",
        "      * Lets you define models using Python classes and interact with the database as Python objects.\n",
        "  - Integrates with Flask Features:\n",
        "      * Works seamlessly with Flask's request/response cycle.\n",
        "      * Supports Flask commands, blueprints, and other extensions.\n",
        "\n",
        "12. What are Flask blueprints, and how are they useful?\n",
        "  - Flask blueprints are a way to organize a Flask application into modular, reusable components. They let you define parts of your app—such as routes, templates, static files, and error handlers—in a separate blueprint, and then register those parts with the main Flask app.\n",
        "  \n",
        "  - Why Blueprints Are Useful:\n",
        "      * Modularity :- Break your application into logical sections (e.g., auth, admin, blog), each in its own file or package.\n",
        "      * Code Reusability :- Blueprints can be reused across different projects with minimal changes.\n",
        "      * Separation of Concerns :- Keep different functionalities isolated, which improves maintainability and readability.\n",
        "\n",
        "13. What is the purpose of Flask's request object?\n",
        "  - The purpose of Flask’s request object is to give your application access to incoming HTTP request data from the client (browser, API consumer, etc.).\n",
        "\n",
        "14. How do you create a RESTful API endpoint using Flask?\n",
        "  - Creating a RESTful API endpoint in Flask involves setting up routes that handle HTTP methods like GET, POST, PUT, and DELETE.\n",
        "\n",
        "15. What is the purpose of Flask's jsonify() function?\n",
        "  - The purpose of Flask's jsonify() function is to convert Python data structures into a proper JSON response that a client (like a browser or frontend app) can easily understand and use.\n",
        "\n",
        "16.  Explain Flask’s url_for() function?\n",
        "  - Flask’s url_for() function is used to build dynamic URLs for your application routes, based on the name of the view function rather than hardcoding the URL path.\n",
        "\n",
        "17. How does Flask handle static files (CSS, JavaScript, etc.)?\n",
        "  - Flask handles static files (like CSS, JavaScript, and images) through a built-in mechanism that serves files from a directory named static by default.\n",
        "\n",
        "18. What is an API specification, and how does it help in building a Flask API?\n",
        "  - An API specification is a formal, structured document or definition that outlines how an API behaves, including:\n",
        "      * Endpoints (URLs and HTTP methods like GET, POST)\n",
        "      * Request parameters (query, path, headers, body)\n",
        "      * Response formats (status codes, JSON schemas)\n",
        "      * Authentication methods\n",
        "      * Error messages and codes\n",
        "  - How an API Specification Helps in Building a Flask API:\n",
        "      * Design-First Development\n",
        "      * Clear Communication\n",
        "      * Documentation Generation\n",
        "      * Validation\n",
        "      * Testing and Mocking\n",
        "\n",
        "19. What are HTTP status codes, and why are they important in a Flask API?\n",
        "  - HTTP status codes are standardized 3-digit codes returned by a server in response to a client’s request. They indicate the outcome of the request—whether it succeeded, failed, or something else happened.\n",
        "  - Why They’re Important in a Flask API:\n",
        "      * Communicate Request Outcome Clearly: They tell clients (like frontends, mobile apps, or other services) what happened.\n",
        "      * Enable Better Error Handling: Clients can react appropriately based on the code.\n",
        "      * Improve Debugging and Logging: Clear status codes make it easier to diagnose issues during development and in production.\n",
        "Support RESTful Design Principles: roper use of status codes is essential for designing clean and standard-compliant REST APIs.\n",
        "\n",
        "20. How do you handle POST requests in Flask?\n",
        "  - To handle POST requests in Flask, you define a route that accepts the POST method and then extract the data from the request, usually JSON or form data.\n",
        "\n",
        "21. How would you secure a Flask API?\n",
        "  - Authentication :- Verify who is accessing the API.\n",
        "      * Token-based Auth: Use JSON Web Tokens (JWT) or API keys.\n",
        "      * OAuth2: For more complex systems and third-party integrations.\n",
        "      * Tools: Flask-JWT-Extended, Flask-OAuthlib, or Authlib.\n",
        "\n",
        "  - Authorization : Control what a user can access.\n",
        "      * Use roles/permissions to restrict access to certain endpoints.\n",
        "      * Implement logic to check if a user has the right privileges.\n",
        "  - HTTPS Only\n",
        "      * Enforce HTTPS to encrypt traffic.\n",
        "      * Use a reverse proxy like Nginx with an SSL certificate (e.g., via Let's Encrypt).\n",
        "\n",
        "22. What is the significance of the Flask-RESTful extension?\n",
        "  - The Flask-RESTful extension significantly simplifies the process of building RESTful APIs with Flask by providing a more structured, class-based approach.\n",
        "\n",
        "23. What is the role of Flask’s session object?\n",
        "  - The session object in Flask is used to store data across requests for a particular user — essentially enabling server-side sessions in a secure way using client-side cookies."
      ],
      "metadata": {
        "id": "dMDI30z_ZJlj"
      }
    },
    {
      "cell_type": "markdown",
      "source": [
        "#Restful API & Flask Practical\n"
      ],
      "metadata": {
        "id": "js-7kgY8ZaEo"
      }
    },
    {
      "cell_type": "code",
      "source": [
        "# 1. How do you create a basic Flask application?\n",
        "\n",
        "# First install flask :-  pip install flask\n",
        "\n",
        "from flask import Flask\n",
        "\n",
        "app = Flask(__name__)  # Create the Flask app instance\n",
        "\n",
        "@app.route('/')         # Define the route for the home page\n",
        "def home():\n",
        "    return 'Hello, Flask!'\n",
        "\n",
        "if __name__ == '__main__':\n",
        "    app.run(debug=True)  # Run the app in debug mode"
      ],
      "metadata": {
        "id": "o-HPKF95YWHb"
      },
      "execution_count": null,
      "outputs": []
    },
    {
      "cell_type": "code",
      "source": [
        "# 2. How do you serve static files like images or CSS in Flask?\n",
        "\n",
        "''' Flask looks for a folder named static by default in the root directory of the app.\n",
        "your_project/\n",
        "│\n",
        "├── app.py\n",
        "├── static/\n",
        "│   ├── style.css\n",
        "│   └── logo.png\n",
        "└── templates/\n",
        "    └── index.html'''\n",
        "from flask import Flask, render_template\n",
        "\n",
        "app = Flask(__name__)\n",
        "\n",
        "@app.route('/')\n",
        "def home():\n",
        "    return render_template('index.html')"
      ],
      "metadata": {
        "id": "KZsd27jrr_5-"
      },
      "execution_count": null,
      "outputs": []
    },
    {
      "cell_type": "code",
      "source": [
        "# 3. How do you define different routes with different HTTP methods in Flask?\n",
        "from flask import Flask, request\n",
        "\n",
        "app = Flask(__name__)\n",
        "\n",
        "@app.route('/user', methods=['GET', 'POST'])\n",
        "def user():\n",
        "    if request.method == 'GET':\n",
        "        return \"GET request received\"\n",
        "    elif request.method == 'POST':\n",
        "        data = request.form.get('name')\n",
        "        return f\"POST request received with name: {data}\"\n"
      ],
      "metadata": {
        "id": "FfVT-aMmEy69"
      },
      "execution_count": null,
      "outputs": []
    },
    {
      "cell_type": "code",
      "source": [
        "# 4. How do you render HTML templates in Flask?\n",
        "''' Flask looks for a folder named templates by default in the root directory of the app.\n",
        "your_project/\n",
        "│\n",
        "├── app.py\n",
        "├── static/\n",
        "│   ├── style.css\n",
        "│   └── logo.png\n",
        "└── templates/\n",
        "    └── index.html\n",
        "HTML Code:\n",
        "<!DOCTYPE html>\n",
        "<html>\n",
        "<head>\n",
        "    <title>Flask Template</title>\n",
        "</head>\n",
        "<body>\n",
        "    <h1>Hello, Flask!</h1>\n",
        "</body>\n",
        "</html>\n",
        "'''\n",
        "\n",
        "from flask import Flask, render_template\n",
        "\n",
        "app = Flask(__name__)\n",
        "\n",
        "@app.route('/')\n",
        "def home():\n",
        "    return render_template('index.html')\n"
      ],
      "metadata": {
        "id": "88aCaWPgeXQi"
      },
      "execution_count": null,
      "outputs": []
    },
    {
      "cell_type": "code",
      "source": [
        "# 5. How can you generate URLs for routes in Flask using url_for?\n",
        "from flask import Flask, url_for\n",
        "\n",
        "app = Flask(__name__)\n",
        "\n",
        "@app.route('/')\n",
        "def home():\n",
        "    return 'Home Page'\n",
        "\n",
        "@app.route('/about')\n",
        "def about():\n",
        "    return 'About Page'\n",
        "\n",
        "@app.route('/link')\n",
        "def link():\n",
        "    return f'<a href=\"{url_for(\"about\")}\">Go to About</a>'\n"
      ],
      "metadata": {
        "id": "43KhOt5NfZwL"
      },
      "execution_count": null,
      "outputs": []
    },
    {
      "cell_type": "code",
      "source": [
        "# 6. How do you handle forms in Flask?\n",
        "'''\n",
        "<!DOCTYPE html>\n",
        "<html>\n",
        "<head><title>Simple Form</title></head>\n",
        "<body>\n",
        "    <form method=\"POST\" action=\"/submit\">\n",
        "        Name: <input type=\"text\" name=\"name\">\n",
        "        <input type=\"submit\" value=\"Submit\">\n",
        "    </form>\n",
        "</body>\n",
        "</html>\n",
        "'''\n",
        "from flask import Flask, request, render_template\n",
        "\n",
        "app = Flask(__name__)\n",
        "\n",
        "@app.route('/')\n",
        "def index():\n",
        "    return render_template('form.html')\n",
        "\n",
        "@app.route('/submit', methods=['POST'])\n",
        "def submit():\n",
        "    name = request.form.get('name')  # Access form field by name\n",
        "    return f'Hello, {name}!'"
      ],
      "metadata": {
        "id": "9hEJnSv2f6X3"
      },
      "execution_count": null,
      "outputs": []
    },
    {
      "cell_type": "code",
      "source": [
        "# 7. How can you validate form data in Flask?\n",
        "from flask import Flask, request, render_template_string\n",
        "\n",
        "app = Flask(__name__)\n",
        "\n",
        "@app.route('/submit', methods=['GET', 'POST'])\n",
        "def submit():\n",
        "    if request.method == 'POST':\n",
        "        name = request.form.get('name')\n",
        "        if not name:\n",
        "            return \"Name is required\", 400\n",
        "        return f\"Hello, {name}!\"\n",
        "\n",
        "    return '''\n",
        "    <form method=\"POST\">\n",
        "        Name: <input type=\"text\" name=\"name\">\n",
        "        <input type=\"submit\">\n",
        "    </form>\n",
        "    '''"
      ],
      "metadata": {
        "id": "rlYlpiZHgzDC"
      },
      "execution_count": null,
      "outputs": []
    },
    {
      "cell_type": "code",
      "source": [
        "# 9. How do you redirect to a different route in Flask?\n",
        "from flask import Flask, redirect, url_for\n",
        "\n",
        "app = Flask(__name__)\n",
        "\n",
        "@app.route('/')\n",
        "def home():\n",
        "    return 'Home Page'\n",
        "\n",
        "@app.route('/redirect')\n",
        "def redirect_to_home():\n",
        "    return redirect(url_for('home'))\n"
      ],
      "metadata": {
        "id": "g0VJKtcsio8W"
      },
      "execution_count": null,
      "outputs": []
    },
    {
      "cell_type": "code",
      "source": [
        "# 10. How do you handle errors in Flask (e.g., 404)?\n",
        "from flask import Flask, render_template\n",
        "\n",
        "app = Flask(__name__)\n",
        "\n",
        "@app.errorhandler(404)\n",
        "def not_found(error):\n",
        "    return render_template('404.html'), 404\n",
        "\n",
        "@app.errorhandler(500)\n",
        "def internal_error(error):\n",
        "    return render_template('500.html'), 500"
      ],
      "metadata": {
        "id": "OLYWqLqLi8cw"
      },
      "execution_count": null,
      "outputs": []
    },
    {
      "cell_type": "code",
      "source": [
        "# 11. How do you structure a Flask app using Blueprints?\n",
        "'''\n",
        "your_project/\n",
        "│\n",
        "├── app.py                  # Main entry point\n",
        "├── blueprints/\n",
        "│   └── auth/\n",
        "│       ├── __init__.py     # Blueprint definition\n",
        "│       └── routes.py       # Auth-specific routes\n",
        "└── templates/\n",
        "    └── auth/\n",
        "        └── login.html\n",
        "'''"
      ],
      "metadata": {
        "id": "xEw2QNI_nBCQ"
      },
      "execution_count": null,
      "outputs": []
    },
    {
      "cell_type": "code",
      "source": [
        "# 13. How can you redirect with query parameters in Flask?\n",
        "from flask import Flask, redirect, url_for, request\n",
        "\n",
        "app = Flask(__name__)\n",
        "\n",
        "@app.route('/')\n",
        "def index():\n",
        "    # Redirect to /search with query ?q=flask\n",
        "    return redirect(url_for('search', q='flask'))\n",
        "\n",
        "@app.route('/search')\n",
        "def search():\n",
        "    query = request.args.get('q')\n",
        "    return f\"Search query: {query}\""
      ],
      "metadata": {
        "id": "7wEGaJgUo7OG"
      },
      "execution_count": null,
      "outputs": []
    },
    {
      "cell_type": "code",
      "source": [
        "# 14. How do you return JSON responses in Flask?\n",
        "from flask import Flask, jsonify\n",
        "\n",
        "app = Flask(__name__)\n",
        "\n",
        "@app.route('/api/data')\n",
        "def get_data():\n",
        "    data = {'message': 'Hello, Flask!'}\n",
        "    return jsonify(data)\n"
      ],
      "metadata": {
        "id": "Y-2FHLOlpT2M"
      },
      "execution_count": null,
      "outputs": []
    },
    {
      "cell_type": "code",
      "source": [
        "# 15.  How do you capture URL parameters in Flask?\n",
        "from flask import Flask, request\n",
        "\n",
        "app = Flask(__name__)\n",
        "\n",
        "@app.route('/user/<username>')\n",
        "def user_profile(username):\n",
        "    return f'User Profile: {username}'"
      ],
      "metadata": {
        "id": "4603wbAJpe43"
      },
      "execution_count": null,
      "outputs": []
    }
  ]
}